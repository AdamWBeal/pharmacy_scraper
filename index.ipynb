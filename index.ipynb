{
 "cells": [
  {
   "cell_type": "code",
   "execution_count": 178,
   "metadata": {},
   "outputs": [],
   "source": [
    "import pandas as pd\n",
    "import requests\n",
    "import json\n",
    "from bs4 import BeautifulSoup\n",
    "import time\n",
    "from datetime import datetime\n",
    "import random"
   ]
  },
  {
   "cell_type": "code",
   "execution_count": 183,
   "metadata": {},
   "outputs": [],
   "source": [
    "df = pd.DataFrame(columns=['name','phone','street','city'])"
   ]
  },
  {
   "cell_type": "code",
   "execution_count": 201,
   "metadata": {},
   "outputs": [],
   "source": [
    "# url = 'https://www.yellowpages.com/search?search_terms=pharmacies&geo_location_terms=new%20york&page='\n",
    "# url = 'https://www.yellowpages.com/search?search_terms=pharmacies&geo_location_terms=Long%20Island%2C%20NY&page='\n",
    "url = 'https://www.yellowpages.com/search?search_terms=pharmacies&geo_location_terms=Syracuse%2C%20NY&page='"
   ]
  },
  {
   "cell_type": "code",
   "execution_count": 202,
   "metadata": {
    "tags": []
   },
   "outputs": [
    {
     "output_type": "stream",
     "name": "stdout",
     "text": "0\n0:00:13.753196\n"
    }
   ],
   "source": [
    "start = datetime.now()\n",
    "counter = 0\n",
    "\n",
    "for number in range(1,9):\n",
    "    if counter % 10 == 0:\n",
    "        print(counter)\n",
    "    counter += 1\n",
    "\n",
    "    # time.sleep(random.randint(0,2))\n",
    "    page = url + str(number)\n",
    "\n",
    "    r = requests.get(page)\n",
    "\n",
    "    if r.status_code == 200:\n",
    "        soup = BeautifulSoup(r.content, 'html.parser')\n",
    "        mydivs = soup.findAll(\"div\", {\"class\": \"info\"})\n",
    "\n",
    "        try:\n",
    "            for i in mydivs:\n",
    "                name = i.find('a', {'class': 'business-name'}).span.text\n",
    "                phone = i.find('div', {'class': 'phones phone primary'}).text\n",
    "                street = i.find('div', {'class': 'street-address'}).text\n",
    "                city = i.find('div', {'class': 'locality'}).text\n",
    "                new_df = pd.DataFrame({'name':[name],'phone':[phone],'street':[street],'city':[city]})\n",
    "                df = pd.concat([df,new_df])\n",
    "\n",
    "        except AttributeError:\n",
    "            pass\n",
    "\n",
    "    else:\n",
    "        print(r.status_code)\n",
    "        time.sleep(15)\n",
    "\n",
    "\n",
    "print(datetime.now()-start)"
   ]
  },
  {
   "cell_type": "code",
   "execution_count": 203,
   "metadata": {},
   "outputs": [],
   "source": []
  },
  {
   "cell_type": "code",
   "execution_count": 204,
   "metadata": {},
   "outputs": [
    {
     "output_type": "execute_result",
     "data": {
      "text/plain": "                             name           phone                   street  \\\n0                Halpern Pharmacy  (347) 508-6622            331 E 23rd St   \n0                Whitney Chemists  (646) 817-8258  50 University Pl Frnt 1   \n0              Thomas Drugs, Inc.  (929) 209-1024         171 Columbus Ave   \n0         Chateau Drug & Homecare  (212) 877-6390        181 Amsterdam Ave   \n0   New London Specialty Pharmacy  (212) 414-9755         246 8th Ave Fl A   \n..                            ...             ...                      ...   \n0                        Rite Aid  (315) 622-0749    8417 Oswego Rd Stop 3   \n0                    Kinney Drugs  (315) 687-6110           540 Genesee St   \n0             Mastrangelo, Nicole  (315) 687-6110           540 Genesee St   \n0       Joseph Vieau III, Pharm D  (315) 687-6110         703 E Genesee St   \n0                    Kinney Drugs  (315) 687-6110         703 E Genesee St   \n\n                       city  \n0        New York, NY 10010  \n0        New York, NY 10003  \n0        New York, NY 10023  \n0        New York, NY 10023  \n0        New York, NY 10011  \n..                      ...  \n0   Baldwinsville, NY 13027  \n0     Chittenango, NY 13037  \n0     Chittenango, NY 13037  \n0     Chittenango, NY 13037  \n0     Chittenango, NY 13037  \n\n[5935 rows x 4 columns]",
      "text/html": "<div>\n<style scoped>\n    .dataframe tbody tr th:only-of-type {\n        vertical-align: middle;\n    }\n\n    .dataframe tbody tr th {\n        vertical-align: top;\n    }\n\n    .dataframe thead th {\n        text-align: right;\n    }\n</style>\n<table border=\"1\" class=\"dataframe\">\n  <thead>\n    <tr style=\"text-align: right;\">\n      <th></th>\n      <th>name</th>\n      <th>phone</th>\n      <th>street</th>\n      <th>city</th>\n    </tr>\n  </thead>\n  <tbody>\n    <tr>\n      <td>0</td>\n      <td>Halpern Pharmacy</td>\n      <td>(347) 508-6622</td>\n      <td>331 E 23rd St</td>\n      <td>New York, NY 10010</td>\n    </tr>\n    <tr>\n      <td>0</td>\n      <td>Whitney Chemists</td>\n      <td>(646) 817-8258</td>\n      <td>50 University Pl Frnt 1</td>\n      <td>New York, NY 10003</td>\n    </tr>\n    <tr>\n      <td>0</td>\n      <td>Thomas Drugs, Inc.</td>\n      <td>(929) 209-1024</td>\n      <td>171 Columbus Ave</td>\n      <td>New York, NY 10023</td>\n    </tr>\n    <tr>\n      <td>0</td>\n      <td>Chateau Drug &amp; Homecare</td>\n      <td>(212) 877-6390</td>\n      <td>181 Amsterdam Ave</td>\n      <td>New York, NY 10023</td>\n    </tr>\n    <tr>\n      <td>0</td>\n      <td>New London Specialty Pharmacy</td>\n      <td>(212) 414-9755</td>\n      <td>246 8th Ave Fl A</td>\n      <td>New York, NY 10011</td>\n    </tr>\n    <tr>\n      <td>...</td>\n      <td>...</td>\n      <td>...</td>\n      <td>...</td>\n      <td>...</td>\n    </tr>\n    <tr>\n      <td>0</td>\n      <td>Rite Aid</td>\n      <td>(315) 622-0749</td>\n      <td>8417 Oswego Rd Stop 3</td>\n      <td>Baldwinsville, NY 13027</td>\n    </tr>\n    <tr>\n      <td>0</td>\n      <td>Kinney Drugs</td>\n      <td>(315) 687-6110</td>\n      <td>540 Genesee St</td>\n      <td>Chittenango, NY 13037</td>\n    </tr>\n    <tr>\n      <td>0</td>\n      <td>Mastrangelo, Nicole</td>\n      <td>(315) 687-6110</td>\n      <td>540 Genesee St</td>\n      <td>Chittenango, NY 13037</td>\n    </tr>\n    <tr>\n      <td>0</td>\n      <td>Joseph Vieau III, Pharm D</td>\n      <td>(315) 687-6110</td>\n      <td>703 E Genesee St</td>\n      <td>Chittenango, NY 13037</td>\n    </tr>\n    <tr>\n      <td>0</td>\n      <td>Kinney Drugs</td>\n      <td>(315) 687-6110</td>\n      <td>703 E Genesee St</td>\n      <td>Chittenango, NY 13037</td>\n    </tr>\n  </tbody>\n</table>\n<p>5935 rows × 4 columns</p>\n</div>"
     },
     "metadata": {},
     "execution_count": 204
    }
   ],
   "source": [
    "df"
   ]
  },
  {
   "cell_type": "code",
   "execution_count": 207,
   "metadata": {},
   "outputs": [],
   "source": [
    "df['zip'] = df['city'].apply(lambda x: x[-5:])"
   ]
  },
  {
   "cell_type": "code",
   "execution_count": 208,
   "metadata": {},
   "outputs": [
    {
     "output_type": "execute_result",
     "data": {
      "text/plain": "                             name           phone                   street  \\\n0                Halpern Pharmacy  (347) 508-6622            331 E 23rd St   \n0                Whitney Chemists  (646) 817-8258  50 University Pl Frnt 1   \n0              Thomas Drugs, Inc.  (929) 209-1024         171 Columbus Ave   \n0         Chateau Drug & Homecare  (212) 877-6390        181 Amsterdam Ave   \n0   New London Specialty Pharmacy  (212) 414-9755         246 8th Ave Fl A   \n..                            ...             ...                      ...   \n0                        Rite Aid  (315) 622-0749    8417 Oswego Rd Stop 3   \n0                    Kinney Drugs  (315) 687-6110           540 Genesee St   \n0             Mastrangelo, Nicole  (315) 687-6110           540 Genesee St   \n0       Joseph Vieau III, Pharm D  (315) 687-6110         703 E Genesee St   \n0                    Kinney Drugs  (315) 687-6110         703 E Genesee St   \n\n                       city    zip  \n0        New York, NY 10010  10010  \n0        New York, NY 10003  10003  \n0        New York, NY 10023  10023  \n0        New York, NY 10023  10023  \n0        New York, NY 10011  10011  \n..                      ...    ...  \n0   Baldwinsville, NY 13027  13027  \n0     Chittenango, NY 13037  13037  \n0     Chittenango, NY 13037  13037  \n0     Chittenango, NY 13037  13037  \n0     Chittenango, NY 13037  13037  \n\n[5935 rows x 5 columns]",
      "text/html": "<div>\n<style scoped>\n    .dataframe tbody tr th:only-of-type {\n        vertical-align: middle;\n    }\n\n    .dataframe tbody tr th {\n        vertical-align: top;\n    }\n\n    .dataframe thead th {\n        text-align: right;\n    }\n</style>\n<table border=\"1\" class=\"dataframe\">\n  <thead>\n    <tr style=\"text-align: right;\">\n      <th></th>\n      <th>name</th>\n      <th>phone</th>\n      <th>street</th>\n      <th>city</th>\n      <th>zip</th>\n    </tr>\n  </thead>\n  <tbody>\n    <tr>\n      <td>0</td>\n      <td>Halpern Pharmacy</td>\n      <td>(347) 508-6622</td>\n      <td>331 E 23rd St</td>\n      <td>New York, NY 10010</td>\n      <td>10010</td>\n    </tr>\n    <tr>\n      <td>0</td>\n      <td>Whitney Chemists</td>\n      <td>(646) 817-8258</td>\n      <td>50 University Pl Frnt 1</td>\n      <td>New York, NY 10003</td>\n      <td>10003</td>\n    </tr>\n    <tr>\n      <td>0</td>\n      <td>Thomas Drugs, Inc.</td>\n      <td>(929) 209-1024</td>\n      <td>171 Columbus Ave</td>\n      <td>New York, NY 10023</td>\n      <td>10023</td>\n    </tr>\n    <tr>\n      <td>0</td>\n      <td>Chateau Drug &amp; Homecare</td>\n      <td>(212) 877-6390</td>\n      <td>181 Amsterdam Ave</td>\n      <td>New York, NY 10023</td>\n      <td>10023</td>\n    </tr>\n    <tr>\n      <td>0</td>\n      <td>New London Specialty Pharmacy</td>\n      <td>(212) 414-9755</td>\n      <td>246 8th Ave Fl A</td>\n      <td>New York, NY 10011</td>\n      <td>10011</td>\n    </tr>\n    <tr>\n      <td>...</td>\n      <td>...</td>\n      <td>...</td>\n      <td>...</td>\n      <td>...</td>\n      <td>...</td>\n    </tr>\n    <tr>\n      <td>0</td>\n      <td>Rite Aid</td>\n      <td>(315) 622-0749</td>\n      <td>8417 Oswego Rd Stop 3</td>\n      <td>Baldwinsville, NY 13027</td>\n      <td>13027</td>\n    </tr>\n    <tr>\n      <td>0</td>\n      <td>Kinney Drugs</td>\n      <td>(315) 687-6110</td>\n      <td>540 Genesee St</td>\n      <td>Chittenango, NY 13037</td>\n      <td>13037</td>\n    </tr>\n    <tr>\n      <td>0</td>\n      <td>Mastrangelo, Nicole</td>\n      <td>(315) 687-6110</td>\n      <td>540 Genesee St</td>\n      <td>Chittenango, NY 13037</td>\n      <td>13037</td>\n    </tr>\n    <tr>\n      <td>0</td>\n      <td>Joseph Vieau III, Pharm D</td>\n      <td>(315) 687-6110</td>\n      <td>703 E Genesee St</td>\n      <td>Chittenango, NY 13037</td>\n      <td>13037</td>\n    </tr>\n    <tr>\n      <td>0</td>\n      <td>Kinney Drugs</td>\n      <td>(315) 687-6110</td>\n      <td>703 E Genesee St</td>\n      <td>Chittenango, NY 13037</td>\n      <td>13037</td>\n    </tr>\n  </tbody>\n</table>\n<p>5935 rows × 5 columns</p>\n</div>"
     },
     "metadata": {},
     "execution_count": 208
    }
   ],
   "source": [
    "df"
   ]
  },
  {
   "cell_type": "code",
   "execution_count": 210,
   "metadata": {},
   "outputs": [],
   "source": [
    "df.to_csv('pharmacies.csv')\n"
   ]
  },
  {
   "cell_type": "code",
   "execution_count": 211,
   "metadata": {},
   "outputs": [
    {
     "output_type": "execute_result",
     "data": {
      "text/plain": "                             name           phone                   street  \\\n0                Halpern Pharmacy  (347) 508-6622            331 E 23rd St   \n0                Whitney Chemists  (646) 817-8258  50 University Pl Frnt 1   \n0              Thomas Drugs, Inc.  (929) 209-1024         171 Columbus Ave   \n0         Chateau Drug & Homecare  (212) 877-6390        181 Amsterdam Ave   \n0   New London Specialty Pharmacy  (212) 414-9755         246 8th Ave Fl A   \n..                            ...             ...                      ...   \n0                        Rite Aid  (315) 622-0749    8417 Oswego Rd Stop 3   \n0                    Kinney Drugs  (315) 687-6110           540 Genesee St   \n0             Mastrangelo, Nicole  (315) 687-6110           540 Genesee St   \n0       Joseph Vieau III, Pharm D  (315) 687-6110         703 E Genesee St   \n0                    Kinney Drugs  (315) 687-6110         703 E Genesee St   \n\n                       city    zip  \n0        New York, NY 10010  10010  \n0        New York, NY 10003  10003  \n0        New York, NY 10023  10023  \n0        New York, NY 10023  10023  \n0        New York, NY 10011  10011  \n..                      ...    ...  \n0   Baldwinsville, NY 13027  13027  \n0     Chittenango, NY 13037  13037  \n0     Chittenango, NY 13037  13037  \n0     Chittenango, NY 13037  13037  \n0     Chittenango, NY 13037  13037  \n\n[5935 rows x 5 columns]",
      "text/html": "<div>\n<style scoped>\n    .dataframe tbody tr th:only-of-type {\n        vertical-align: middle;\n    }\n\n    .dataframe tbody tr th {\n        vertical-align: top;\n    }\n\n    .dataframe thead th {\n        text-align: right;\n    }\n</style>\n<table border=\"1\" class=\"dataframe\">\n  <thead>\n    <tr style=\"text-align: right;\">\n      <th></th>\n      <th>name</th>\n      <th>phone</th>\n      <th>street</th>\n      <th>city</th>\n      <th>zip</th>\n    </tr>\n  </thead>\n  <tbody>\n    <tr>\n      <td>0</td>\n      <td>Halpern Pharmacy</td>\n      <td>(347) 508-6622</td>\n      <td>331 E 23rd St</td>\n      <td>New York, NY 10010</td>\n      <td>10010</td>\n    </tr>\n    <tr>\n      <td>0</td>\n      <td>Whitney Chemists</td>\n      <td>(646) 817-8258</td>\n      <td>50 University Pl Frnt 1</td>\n      <td>New York, NY 10003</td>\n      <td>10003</td>\n    </tr>\n    <tr>\n      <td>0</td>\n      <td>Thomas Drugs, Inc.</td>\n      <td>(929) 209-1024</td>\n      <td>171 Columbus Ave</td>\n      <td>New York, NY 10023</td>\n      <td>10023</td>\n    </tr>\n    <tr>\n      <td>0</td>\n      <td>Chateau Drug &amp; Homecare</td>\n      <td>(212) 877-6390</td>\n      <td>181 Amsterdam Ave</td>\n      <td>New York, NY 10023</td>\n      <td>10023</td>\n    </tr>\n    <tr>\n      <td>0</td>\n      <td>New London Specialty Pharmacy</td>\n      <td>(212) 414-9755</td>\n      <td>246 8th Ave Fl A</td>\n      <td>New York, NY 10011</td>\n      <td>10011</td>\n    </tr>\n    <tr>\n      <td>...</td>\n      <td>...</td>\n      <td>...</td>\n      <td>...</td>\n      <td>...</td>\n      <td>...</td>\n    </tr>\n    <tr>\n      <td>0</td>\n      <td>Rite Aid</td>\n      <td>(315) 622-0749</td>\n      <td>8417 Oswego Rd Stop 3</td>\n      <td>Baldwinsville, NY 13027</td>\n      <td>13027</td>\n    </tr>\n    <tr>\n      <td>0</td>\n      <td>Kinney Drugs</td>\n      <td>(315) 687-6110</td>\n      <td>540 Genesee St</td>\n      <td>Chittenango, NY 13037</td>\n      <td>13037</td>\n    </tr>\n    <tr>\n      <td>0</td>\n      <td>Mastrangelo, Nicole</td>\n      <td>(315) 687-6110</td>\n      <td>540 Genesee St</td>\n      <td>Chittenango, NY 13037</td>\n      <td>13037</td>\n    </tr>\n    <tr>\n      <td>0</td>\n      <td>Joseph Vieau III, Pharm D</td>\n      <td>(315) 687-6110</td>\n      <td>703 E Genesee St</td>\n      <td>Chittenango, NY 13037</td>\n      <td>13037</td>\n    </tr>\n    <tr>\n      <td>0</td>\n      <td>Kinney Drugs</td>\n      <td>(315) 687-6110</td>\n      <td>703 E Genesee St</td>\n      <td>Chittenango, NY 13037</td>\n      <td>13037</td>\n    </tr>\n  </tbody>\n</table>\n<p>5935 rows × 5 columns</p>\n</div>"
     },
     "metadata": {},
     "execution_count": 211
    }
   ],
   "source": [
    "df"
   ]
  },
  {
   "cell_type": "code",
   "execution_count": null,
   "metadata": {},
   "outputs": [],
   "source": []
  }
 ],
 "metadata": {
  "language_info": {
   "codemirror_mode": {
    "name": "ipython",
    "version": 3
   },
   "file_extension": ".py",
   "mimetype": "text/x-python",
   "name": "python",
   "nbconvert_exporter": "python",
   "pygments_lexer": "ipython3",
   "version": "3.7.4-final"
  },
  "orig_nbformat": 2,
  "kernelspec": {
   "name": "python3",
   "display_name": "Python 3"
  }
 },
 "nbformat": 4,
 "nbformat_minor": 2
}